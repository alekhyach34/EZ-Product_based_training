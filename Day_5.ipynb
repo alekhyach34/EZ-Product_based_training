{
  "nbformat": 4,
  "nbformat_minor": 0,
  "metadata": {
    "colab": {
      "provenance": []
    },
    "kernelspec": {
      "name": "python3",
      "display_name": "Python 3"
    },
    "language_info": {
      "name": "python"
    }
  },
  "cells": [
    {
      "cell_type": "code",
      "execution_count": 1,
      "metadata": {
        "colab": {
          "base_uri": "https://localhost:8080/"
        },
        "id": "lFnkxWBHleYD",
        "outputId": "f98135e8-5157-4699-8eff-205d084f26a1"
      },
      "outputs": [
        {
          "output_type": "stream",
          "name": "stdout",
          "text": [
            "Enter the number  of rows:3\n",
            "A 3x3 Magic Square:\n",
            "2\t7\t6\t\n",
            "9\t5\t1\t\n",
            "4\t3\t8\t\n",
            "Original Matrix:\n",
            "[2, 7, 6]\n",
            "[9, 5, 1]\n",
            "[4, 3, 8]\n",
            "\n",
            "Mirror Image:\n",
            "[6, 7, 2]\n",
            "[1, 5, 9]\n",
            "[8, 3, 4]\n",
            "\n",
            "Water Image:\n",
            "[4, 3, 8]\n",
            "[9, 5, 1]\n",
            "[2, 7, 6]\n"
          ]
        }
      ],
      "source": [
        "def generate_magic_square(n):\n",
        "    magic_square = [[0] * n for _ in range(n)]\n",
        "    num = 1\n",
        "    i, j = n // 2, n - 1\n",
        "    while num <= (n * n):\n",
        "        if i == -1 and j == n:\n",
        "            j = n - 2\n",
        "            i = 0\n",
        "        else:\n",
        "            if j == n:\n",
        "                j = 0\n",
        "            if i < 0:\n",
        "                i = n - 1\n",
        "        if magic_square[i][j] != 0:\n",
        "            j -= 2\n",
        "            i += 1\n",
        "            continue\n",
        "        else:\n",
        "            magic_square[i][j] = num\n",
        "            num += 1\n",
        "\n",
        "        j += 1\n",
        "        i -= 1\n",
        "    return magic_square\n",
        "def print_magic_square(square):\n",
        "    for i in range(len(square)):\n",
        "        for j in range(len(square[0])):\n",
        "            print(square[i][j], end=\"\\t\")\n",
        "        print()\n",
        "n=int(input(\"Enter the number  of rows:\"))\n",
        "magic_square = generate_magic_square(n)\n",
        "print(f\"A {n}x{n} Magic Square:\")\n",
        "print_magic_square(magic_square)\n",
        "def generate_mirror_image(matrix):\n",
        "    mirror_image = [row[::-1] for row in matrix]\n",
        "    return mirror_image\n",
        "def generate_water_image(matrix):\n",
        "    water_image = matrix[::-1]\n",
        "    return water_image\n",
        "mirror_image = generate_mirror_image(magic_square)\n",
        "water_image = generate_water_image(magic_square)\n",
        "print(\"Original Matrix:\")\n",
        "for row in magic_square:\n",
        "    print(row)\n",
        "print(\"\\nMirror Image:\")\n",
        "for row in mirror_image:\n",
        "    print(row)\n",
        "print(\"\\nWater Image:\")\n",
        "for row in water_image:\n",
        "    print(row)"
      ]
    },
    {
      "cell_type": "code",
      "source": [
        "def generate_magic_square(n):\n",
        "    magic_square = [[0] * n for _ in range(n)]\n",
        "    num = 1\n",
        "    i, j = n // 2, n - 1\n",
        "    while num <= (n * n):\n",
        "        if i == -1 and j == n:\n",
        "            j = n - 2\n",
        "            i = 0\n",
        "        else:\n",
        "            if j == n:\n",
        "                j = 0\n",
        "            if i < 0:\n",
        "                i = n - 1\n",
        "        if magic_square[i][j] != 0:\n",
        "            j -= 2\n",
        "            i += 1\n",
        "            continue\n",
        "        else:\n",
        "            magic_square[i][j] = num\n",
        "            num += 1\n",
        "        j += 1\n",
        "        i -= 1\n",
        "    return magic_square\n",
        "def print_magic_square(square):\n",
        "    for i in range(len(square)):\n",
        "        for j in range(len(square[0])):\n",
        "            print(square[i][j], end=\"\\t\")\n",
        "        print()\n",
        "n=int(input(\"Enter the number  of rows:\"))\n",
        "magic_square = generate_magic_square(n)\n",
        "print(f\"A {n}x{n} Magic Square:\")\n",
        "print_magic_square(magic_square)\n",
        "def generate_mirror_image(matrix):\n",
        "    mirror_image = [row[::-1] for row in matrix]\n",
        "    return mirror_image\n",
        "def generate_water_image(matrix):\n",
        "    water_image = matrix[::-1]\n",
        "    return water_image\n",
        "mirror_image = generate_mirror_image(magic_square)\n",
        "water_image = generate_water_image(magic_square)\n",
        "print(\"Original Matrix:\")\n",
        "for row in magic_square:\n",
        "    print(row)\n",
        "print(\"\\nMirror Image:\")\n",
        "for row in mirror_image:\n",
        "    print(row)\n",
        "print(\"\\nWater Image:\")\n",
        "for row in water_image:\n",
        "    print(row)"
      ],
      "metadata": {
        "id": "spDXGxO7lh2S"
      },
      "execution_count": null,
      "outputs": []
    }
  ]
}