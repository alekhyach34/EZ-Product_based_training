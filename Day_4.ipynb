{
  "nbformat": 4,
  "nbformat_minor": 0,
  "metadata": {
    "colab": {
      "provenance": []
    },
    "kernelspec": {
      "name": "python3",
      "display_name": "Python 3"
    },
    "language_info": {
      "name": "python"
    }
  },
  "cells": [
    {
      "cell_type": "code",
      "execution_count": null,
      "metadata": {
        "colab": {
          "base_uri": "https://localhost:8080/"
        },
        "id": "SzXYsAiISZo_",
        "outputId": "6547b298-3693-432f-d831-8d6cf1992098"
      },
      "outputs": [
        {
          "output_type": "stream",
          "name": "stdout",
          "text": [
            "20\n",
            "hii\n",
            "10\n",
            "olleh\n",
            "16\n",
            "0\n"
          ]
        }
      ],
      "source": [
        "class A:\n",
        "  def __init__(self):\n",
        "    self.x=int(input())#calss level variables/global variables\n",
        "    self.y=input()\n",
        "    self.z=int(input())\n",
        "  def method1(self,a,b):\n",
        "    print(a[::-1])#local variables-y,z\n",
        "    print(b**2)\n",
        "  def display_result(self):\n",
        "    print((self.x)%(self.z))#global variables-->self.x,self,y,self,z\n",
        "    #print(len(self.y))\n",
        "obj=A()\n",
        "obj.method1('hello',4)\n",
        "obj.display_result()"
      ]
    },
    {
      "cell_type": "code",
      "source": [
        "n=int(input(\"enter no.of elements:\"))\n",
        "l=[]\n",
        "for i in range(n):\n",
        "  l.append(int(input(\"enter the element:\")))\n",
        "print(l)\n",
        "for i in range(n):\n",
        "  print(l.pop())\n",
        "print(l)"
      ],
      "metadata": {
        "colab": {
          "base_uri": "https://localhost:8080/"
        },
        "id": "NSsTGe4POgDP",
        "outputId": "c1da7294-6059-47df-d804-c966f5b418a0"
      },
      "execution_count": null,
      "outputs": [
        {
          "output_type": "stream",
          "name": "stdout",
          "text": [
            "enter no.of elements:5\n",
            "enter the element:9\n",
            "enter the element:8\n",
            "enter the element:7\n",
            "enter the element:6\n",
            "enter the element:5\n",
            "[9, 8, 7, 6, 5]\n",
            "5\n",
            "6\n",
            "7\n",
            "8\n",
            "9\n",
            "[]\n"
          ]
        }
      ]
    },
    {
      "cell_type": "code",
      "source": [
        "#QUEUE\n",
        "from queue import LifoQueue\n",
        "a=s=LifoQueue(maxsize=3)\n",
        "print(s.qsize())\n",
        "s.put(\"a\")\n",
        "s.put(\"b\")\n",
        "s.put(\"c\")\n",
        "print(s.full())\n",
        "print(s.qsize())\n",
        "print(s.get())\n",
        "print(s.get())\n",
        "print(s.get())\n",
        "print(s.empty())"
      ],
      "metadata": {
        "colab": {
          "base_uri": "https://localhost:8080/"
        },
        "id": "WUA-1Vt7jKKo",
        "outputId": "24046d65-3ce4-4d33-fade-88c9be249454"
      },
      "execution_count": null,
      "outputs": [
        {
          "output_type": "stream",
          "name": "stdout",
          "text": [
            "0\n",
            "True\n",
            "3\n",
            "c\n",
            "b\n",
            "a\n",
            "True\n"
          ]
        }
      ]
    },
    {
      "cell_type": "code",
      "source": [
        "#Queue\n",
        "from collections import deque\n",
        "n=int(input(\"enter no.of elements:\"))\n",
        "l=deque()#dequeue function returns list type of result\n",
        "for i in range(n):\n",
        "  l.append(int(input(\"enter the element:\")))\n",
        "print(l)\n",
        "for i in range(n):\n",
        "  print(l.popleft())\n",
        "  #print(l.pop(0))\n",
        "print(l)"
      ],
      "metadata": {
        "id": "O_alLiyBjyN_",
        "colab": {
          "base_uri": "https://localhost:8080/"
        },
        "outputId": "2b87c71b-e28f-4c4c-f889-bf55eaa671e3"
      },
      "execution_count": 1,
      "outputs": [
        {
          "output_type": "stream",
          "name": "stdout",
          "text": [
            "enter no.of elements:5\n",
            "enter the element:3\n",
            "enter the element:6\n",
            "enter the element:9\n",
            "enter the element:2\n",
            "enter the element:4\n",
            "deque([3, 6, 9, 2, 4])\n",
            "3\n",
            "6\n",
            "9\n",
            "2\n",
            "4\n",
            "deque([])\n"
          ]
        }
      ]
    },
    {
      "cell_type": "code",
      "source": [],
      "metadata": {
        "id": "nGNurvkwtIHb"
      },
      "execution_count": null,
      "outputs": []
    }
  ]
}