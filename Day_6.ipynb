{
  "nbformat": 4,
  "nbformat_minor": 0,
  "metadata": {
    "colab": {
      "provenance": []
    },
    "kernelspec": {
      "name": "python3",
      "display_name": "Python 3"
    },
    "language_info": {
      "name": "python"
    }
  },
  "cells": [
    {
      "cell_type": "code",
      "execution_count": null,
      "metadata": {
        "id": "9Csl2KB_Jxcr"
      },
      "outputs": [],
      "source": [
        "'''s=input()\n",
        "l=['(','[','{']\n",
        "stack=[]\n",
        "for i in s:\n",
        "  if i in l:\n",
        "      stack.append(i)\n",
        "      if(i==')' and len(stack)!=0 and stack[-1]=='('):\n",
        "        stack.pop()\n",
        "      elif(i=='}' and len(stack)!=0 and stack[-1]=='{}'):\n",
        "        stack.pop()\n",
        "      elif(i==']' and len(stack)!=0 and stack[-1]=='['):\n",
        "        stack.pop()\n",
        "print(stack)\n",
        "if(len(stack)==0):\n",
        "  print('balanced')\n",
        "else:\n",
        "  print('unbalanced')'''\n",
        "s=input()\n",
        "l=['(','{','[']\n",
        "a=[]\n",
        "for i in s:\n",
        "    if i in l:\n",
        "        a.append(i)\n",
        "    elif(i==')' and len(a)!=0 and a[-1]=='('):\n",
        "        a.pop()\n",
        "    elif(i=='}' and len(a)!=0 and a[-1]=='{'):\n",
        "        a.pop()\n",
        "    elif(i==']' and len(a)!=0 and a[-1]=='['):\n",
        "        a.pop()\n",
        "    else:\n",
        "      print(False)\n",
        "if len(a)==0:\n",
        "    print(\"balanced\")\n",
        "else:\n",
        "    print(\"unbalanced\")"
      ]
    },
    {
      "cell_type": "code",
      "source": [
        "#Magic Matrix\n",
        "def generate_magic_square(n):\n",
        "    magic_square = [[0] * n for _ in range(n)]\n",
        "    num = 1\n",
        "    i, j = n // 2, n - 1\n",
        "    while num <= (n * n):\n",
        "        if i == -1 and j == n:\n",
        "            j = n - 2\n",
        "            i = 0\n",
        "        else:\n",
        "            if j == n: #elif\n",
        "                j = 0\n",
        "            if i < 0:\n",
        "                i = n - 1 #elif\n",
        "        if magic_square[i][j] != 0:\n",
        "            j -= 2\n",
        "            i += 1\n",
        "            continue              #number present or not\n",
        "        else:\n",
        "            magic_square[i][j] = num\n",
        "            num += 1\n",
        "        j += 1\n",
        "        i -= 1\n",
        "    return magic_square\n",
        "def print_magic_square(square):\n",
        "    for i in range(len(square)):\n",
        "        for j in range(len(square[0])):\n",
        "            print(square[i][j], end=\"\\t\")\n",
        "        print()\n",
        "n=int(input(\"Enter the number  of rows:\"))\n",
        "magic_square = generate_magic_square(n)\n",
        "print(f\"A {n}x{n} Magic Square:\")\n",
        "print_magic_square(magic_square)\n",
        "def generate_mirror_image(matrix):\n",
        "    mirror_image = [row[::-1] for row in matrix]\n",
        "    return mirror_image\n",
        "def generate_water_image(matrix):\n",
        "    water_image = matrix[::-1]\n",
        "    return water_image\n",
        "mirror_image = generate_mirror_image(magic_square)\n",
        "water_image = generate_water_image(magic_square)\n",
        "print(\"Original Matrix:\")\n",
        "for row in magic_square:\n",
        "    print(row)\n",
        "print(\"\\nMirror Image:\")\n",
        "for row in mirror_image:\n",
        "    print(row)\n",
        "print(\"\\nWater Image:\")\n",
        "for row in water_image:\n",
        "    print(row)"
      ],
      "metadata": {
        "colab": {
          "base_uri": "https://localhost:8080/"
        },
        "id": "FVrSfRFkr-20",
        "outputId": "7bf977f3-8109-4e91-b08b-2868419ca25b"
      },
      "execution_count": null,
      "outputs": [
        {
          "output_type": "stream",
          "name": "stdout",
          "text": [
            "Enter the number  of rows:3\n",
            "A 3x3 Magic Square:\n",
            "2\t7\t6\t\n",
            "9\t5\t1\t\n",
            "4\t3\t8\t\n",
            "Original Matrix:\n",
            "[2, 7, 6]\n",
            "[9, 5, 1]\n",
            "[4, 3, 8]\n",
            "\n",
            "Mirror Image:\n",
            "[6, 7, 2]\n",
            "[1, 5, 9]\n",
            "[8, 3, 4]\n",
            "\n",
            "Water Image:\n",
            "[4, 3, 8]\n",
            "[9, 5, 1]\n",
            "[2, 7, 6]\n"
          ]
        }
      ]
    },
    {
      "cell_type": "code",
      "source": [
        "n=int(input())\n",
        "l=[[0 for i in range(n)]\n",
        "   for j in range(n)]\n",
        "c=1\n",
        "i=0\n",
        "j=1\n",
        "while c<=n*n:\n",
        "       if i==-1 and j==n:\n",
        "           i+=2\n",
        "           j-=1\n",
        "       else:\n",
        "           if i==-1:\n",
        "               i=n-1\n",
        "           if j==n:\n",
        "                j=0\n",
        "       if l[i][j]!=0:\n",
        "           i+=2\n",
        "           j-=1\n",
        "           continue\n",
        "       else:\n",
        "           l[i][j]=c\n",
        "           c+=1\n",
        "       i-=1\n",
        "       j+=1\n",
        "for i in range(0,n):\n",
        "    for j in range(0,n):\n",
        "      print(l[i][j],end=\" \")\n",
        "    print()"
      ],
      "metadata": {
        "colab": {
          "base_uri": "https://localhost:8080/"
        },
        "id": "fCylr9nmK_uw",
        "outputId": "18e0ecaf-2e42-4775-82cf-d743194898c2"
      },
      "execution_count": null,
      "outputs": [
        {
          "output_type": "stream",
          "name": "stdout",
          "text": [
            "3\n",
            "8 1 6 \n",
            "3 5 7 \n",
            "4 9 2 \n"
          ]
        }
      ]
    },
    {
      "cell_type": "code",
      "source": [
        "def paren(res,n,op,cl,str):\n",
        "    if op==cl and cl==n:\n",
        "        res.append(str)\n",
        "        return\n",
        "    if op<n:\n",
        "        paren(res,n,op+1,cl,str+\"(\")\n",
        "    if cl<op:\n",
        "        paren(res,n,op,cl+1,str+\")\")\n",
        "def gen_par(n):\n",
        "    res=[]\n",
        "    paren(res,n,0,0,\"\")\n",
        "    return res\n",
        "n=int(input())\n",
        "x=gen_par(n)\n",
        "for i in x:\n",
        "    print(i)"
      ],
      "metadata": {
        "id": "Sfi4Eot-rxGW",
        "colab": {
          "base_uri": "https://localhost:8080/"
        },
        "outputId": "c60f1e32-a304-4ce4-aebf-fe8811452831"
      },
      "execution_count": 1,
      "outputs": [
        {
          "output_type": "stream",
          "name": "stdout",
          "text": [
            "2\n",
            "(())\n",
            "()()\n"
          ]
        }
      ]
    },
    {
      "cell_type": "code",
      "source": [],
      "metadata": {
        "id": "PeOFGhgwu_MP"
      },
      "execution_count": 1,
      "outputs": []
    }
  ]
}